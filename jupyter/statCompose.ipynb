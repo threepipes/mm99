{
 "cells": [
  {
   "cell_type": "code",
   "execution_count": 122,
   "metadata": {
    "collapsed": false
   },
   "outputs": [
    {
     "data": {
      "text/html": [
       "<div>\n",
       "<table border=\"1\" class=\"dataframe\">\n",
       "  <thead>\n",
       "    <tr style=\"text-align: right;\">\n",
       "      <th></th>\n",
       "      <th>trueExp</th>\n",
       "      <th>estExp</th>\n",
       "      <th>updExp</th>\n",
       "    </tr>\n",
       "  </thead>\n",
       "  <tbody>\n",
       "    <tr>\n",
       "      <th>0</th>\n",
       "      <td>1.249281</td>\n",
       "      <td>0.852126</td>\n",
       "      <td>0.879589</td>\n",
       "    </tr>\n",
       "    <tr>\n",
       "      <th>1</th>\n",
       "      <td>0.756250</td>\n",
       "      <td>0.719890</td>\n",
       "      <td>0.718280</td>\n",
       "    </tr>\n",
       "    <tr>\n",
       "      <th>2</th>\n",
       "      <td>0.051020</td>\n",
       "      <td>0.012071</td>\n",
       "      <td>0.017299</td>\n",
       "    </tr>\n",
       "    <tr>\n",
       "      <th>3</th>\n",
       "      <td>1.815272</td>\n",
       "      <td>1.229300</td>\n",
       "      <td>1.345455</td>\n",
       "    </tr>\n",
       "    <tr>\n",
       "      <th>4</th>\n",
       "      <td>0.691853</td>\n",
       "      <td>0.289053</td>\n",
       "      <td>0.303481</td>\n",
       "    </tr>\n",
       "    <tr>\n",
       "      <th>5</th>\n",
       "      <td>1.478212</td>\n",
       "      <td>1.546667</td>\n",
       "      <td>1.612903</td>\n",
       "    </tr>\n",
       "    <tr>\n",
       "      <th>6</th>\n",
       "      <td>1.230500</td>\n",
       "      <td>1.871824</td>\n",
       "      <td>1.523127</td>\n",
       "    </tr>\n",
       "    <tr>\n",
       "      <th>7</th>\n",
       "      <td>1.016296</td>\n",
       "      <td>0.777503</td>\n",
       "      <td>1.028890</td>\n",
       "    </tr>\n",
       "    <tr>\n",
       "      <th>8</th>\n",
       "      <td>1.995000</td>\n",
       "      <td>1.913855</td>\n",
       "      <td>2.398990</td>\n",
       "    </tr>\n",
       "    <tr>\n",
       "      <th>9</th>\n",
       "      <td>0.747599</td>\n",
       "      <td>0.429520</td>\n",
       "      <td>0.903285</td>\n",
       "    </tr>\n",
       "    <tr>\n",
       "      <th>10</th>\n",
       "      <td>0.961914</td>\n",
       "      <td>1.306447</td>\n",
       "      <td>1.054713</td>\n",
       "    </tr>\n",
       "    <tr>\n",
       "      <th>11</th>\n",
       "      <td>1.096939</td>\n",
       "      <td>1.353416</td>\n",
       "      <td>1.095599</td>\n",
       "    </tr>\n",
       "    <tr>\n",
       "      <th>12</th>\n",
       "      <td>0.825185</td>\n",
       "      <td>0.746886</td>\n",
       "      <td>0.764581</td>\n",
       "    </tr>\n",
       "    <tr>\n",
       "      <th>13</th>\n",
       "      <td>1.667046</td>\n",
       "      <td>2.469904</td>\n",
       "      <td>2.023890</td>\n",
       "    </tr>\n",
       "    <tr>\n",
       "      <th>14</th>\n",
       "      <td>0.940000</td>\n",
       "      <td>0.525652</td>\n",
       "      <td>1.093266</td>\n",
       "    </tr>\n",
       "    <tr>\n",
       "      <th>15</th>\n",
       "      <td>0.944433</td>\n",
       "      <td>0.468477</td>\n",
       "      <td>0.475569</td>\n",
       "    </tr>\n",
       "    <tr>\n",
       "      <th>16</th>\n",
       "      <td>0.622837</td>\n",
       "      <td>0.532565</td>\n",
       "      <td>0.727661</td>\n",
       "    </tr>\n",
       "    <tr>\n",
       "      <th>17</th>\n",
       "      <td>1.203061</td>\n",
       "      <td>1.661235</td>\n",
       "      <td>1.881106</td>\n",
       "    </tr>\n",
       "    <tr>\n",
       "      <th>18</th>\n",
       "      <td>1.880725</td>\n",
       "      <td>1.158628</td>\n",
       "      <td>0.983814</td>\n",
       "    </tr>\n",
       "    <tr>\n",
       "      <th>19</th>\n",
       "      <td>0.991211</td>\n",
       "      <td>1.011358</td>\n",
       "      <td>1.255115</td>\n",
       "    </tr>\n",
       "    <tr>\n",
       "      <th>20</th>\n",
       "      <td>0.728148</td>\n",
       "      <td>0.935199</td>\n",
       "      <td>0.832458</td>\n",
       "    </tr>\n",
       "    <tr>\n",
       "      <th>21</th>\n",
       "      <td>0.225394</td>\n",
       "      <td>0.243347</td>\n",
       "      <td>0.278063</td>\n",
       "    </tr>\n",
       "    <tr>\n",
       "      <th>22</th>\n",
       "      <td>0.918367</td>\n",
       "      <td>1.074678</td>\n",
       "      <td>0.964571</td>\n",
       "    </tr>\n",
       "    <tr>\n",
       "      <th>23</th>\n",
       "      <td>0.251690</td>\n",
       "      <td>0.240878</td>\n",
       "      <td>0.308392</td>\n",
       "    </tr>\n",
       "    <tr>\n",
       "      <th>24</th>\n",
       "      <td>1.099125</td>\n",
       "      <td>1.847298</td>\n",
       "      <td>1.831746</td>\n",
       "    </tr>\n",
       "    <tr>\n",
       "      <th>25</th>\n",
       "      <td>1.923333</td>\n",
       "      <td>1.984088</td>\n",
       "      <td>2.161616</td>\n",
       "    </tr>\n",
       "    <tr>\n",
       "      <th>26</th>\n",
       "      <td>1.743050</td>\n",
       "      <td>1.348916</td>\n",
       "      <td>1.222794</td>\n",
       "    </tr>\n",
       "    <tr>\n",
       "      <th>27</th>\n",
       "      <td>1.151339</td>\n",
       "      <td>0.957805</td>\n",
       "      <td>0.861111</td>\n",
       "    </tr>\n",
       "    <tr>\n",
       "      <th>28</th>\n",
       "      <td>0.946931</td>\n",
       "      <td>0.702332</td>\n",
       "      <td>0.740041</td>\n",
       "    </tr>\n",
       "    <tr>\n",
       "      <th>29</th>\n",
       "      <td>0.693359</td>\n",
       "      <td>0.678848</td>\n",
       "      <td>0.875000</td>\n",
       "    </tr>\n",
       "    <tr>\n",
       "      <th>...</th>\n",
       "      <td>...</td>\n",
       "      <td>...</td>\n",
       "      <td>...</td>\n",
       "    </tr>\n",
       "    <tr>\n",
       "      <th>970</th>\n",
       "      <td>0.617017</td>\n",
       "      <td>0.616351</td>\n",
       "      <td>0.678955</td>\n",
       "    </tr>\n",
       "    <tr>\n",
       "      <th>971</th>\n",
       "      <td>1.111111</td>\n",
       "      <td>0.990288</td>\n",
       "      <td>0.856983</td>\n",
       "    </tr>\n",
       "    <tr>\n",
       "      <th>972</th>\n",
       "      <td>3.001481</td>\n",
       "      <td>4.968560</td>\n",
       "      <td>4.576125</td>\n",
       "    </tr>\n",
       "    <tr>\n",
       "      <th>973</th>\n",
       "      <td>1.667046</td>\n",
       "      <td>2.792538</td>\n",
       "      <td>2.011600</td>\n",
       "    </tr>\n",
       "    <tr>\n",
       "      <th>974</th>\n",
       "      <td>0.856910</td>\n",
       "      <td>0.476927</td>\n",
       "      <td>0.480769</td>\n",
       "    </tr>\n",
       "    <tr>\n",
       "      <th>975</th>\n",
       "      <td>0.687037</td>\n",
       "      <td>1.001372</td>\n",
       "      <td>0.702239</td>\n",
       "    </tr>\n",
       "    <tr>\n",
       "      <th>976</th>\n",
       "      <td>0.796541</td>\n",
       "      <td>0.478464</td>\n",
       "      <td>0.538388</td>\n",
       "    </tr>\n",
       "    <tr>\n",
       "      <th>977</th>\n",
       "      <td>0.932221</td>\n",
       "      <td>1.015528</td>\n",
       "      <td>1.125662</td>\n",
       "    </tr>\n",
       "    <tr>\n",
       "      <th>978</th>\n",
       "      <td>1.211474</td>\n",
       "      <td>1.137997</td>\n",
       "      <td>1.162917</td>\n",
       "    </tr>\n",
       "    <tr>\n",
       "      <th>979</th>\n",
       "      <td>0.493333</td>\n",
       "      <td>0.480878</td>\n",
       "      <td>0.453734</td>\n",
       "    </tr>\n",
       "    <tr>\n",
       "      <th>980</th>\n",
       "      <td>0.710059</td>\n",
       "      <td>1.421125</td>\n",
       "      <td>1.420179</td>\n",
       "    </tr>\n",
       "    <tr>\n",
       "      <th>981</th>\n",
       "      <td>1.023750</td>\n",
       "      <td>1.115391</td>\n",
       "      <td>1.365764</td>\n",
       "    </tr>\n",
       "    <tr>\n",
       "      <th>982</th>\n",
       "      <td>0.999680</td>\n",
       "      <td>1.222551</td>\n",
       "      <td>1.224411</td>\n",
       "    </tr>\n",
       "    <tr>\n",
       "      <th>983</th>\n",
       "      <td>1.746399</td>\n",
       "      <td>0.959781</td>\n",
       "      <td>1.203614</td>\n",
       "    </tr>\n",
       "    <tr>\n",
       "      <th>984</th>\n",
       "      <td>0.547793</td>\n",
       "      <td>0.600274</td>\n",
       "      <td>0.443153</td>\n",
       "    </tr>\n",
       "    <tr>\n",
       "      <th>985</th>\n",
       "      <td>0.888148</td>\n",
       "      <td>1.392593</td>\n",
       "      <td>1.212346</td>\n",
       "    </tr>\n",
       "    <tr>\n",
       "      <th>986</th>\n",
       "      <td>0.879038</td>\n",
       "      <td>1.037695</td>\n",
       "      <td>1.121910</td>\n",
       "    </tr>\n",
       "    <tr>\n",
       "      <th>987</th>\n",
       "      <td>0.654659</td>\n",
       "      <td>0.420247</td>\n",
       "      <td>0.501491</td>\n",
       "    </tr>\n",
       "    <tr>\n",
       "      <th>988</th>\n",
       "      <td>0.671614</td>\n",
       "      <td>0.618820</td>\n",
       "      <td>0.790124</td>\n",
       "    </tr>\n",
       "    <tr>\n",
       "      <th>989</th>\n",
       "      <td>1.021788</td>\n",
       "      <td>1.027380</td>\n",
       "      <td>1.199151</td>\n",
       "    </tr>\n",
       "    <tr>\n",
       "      <th>990</th>\n",
       "      <td>1.041508</td>\n",
       "      <td>0.920494</td>\n",
       "      <td>1.202476</td>\n",
       "    </tr>\n",
       "    <tr>\n",
       "      <th>991</th>\n",
       "      <td>2.139918</td>\n",
       "      <td>2.106886</td>\n",
       "      <td>1.585781</td>\n",
       "    </tr>\n",
       "    <tr>\n",
       "      <th>992</th>\n",
       "      <td>2.863391</td>\n",
       "      <td>3.802963</td>\n",
       "      <td>3.848765</td>\n",
       "    </tr>\n",
       "    <tr>\n",
       "      <th>993</th>\n",
       "      <td>0.965120</td>\n",
       "      <td>0.928176</td>\n",
       "      <td>0.820690</td>\n",
       "    </tr>\n",
       "    <tr>\n",
       "      <th>994</th>\n",
       "      <td>0.614621</td>\n",
       "      <td>0.715281</td>\n",
       "      <td>0.769345</td>\n",
       "    </tr>\n",
       "    <tr>\n",
       "      <th>995</th>\n",
       "      <td>1.515775</td>\n",
       "      <td>1.329438</td>\n",
       "      <td>1.899642</td>\n",
       "    </tr>\n",
       "    <tr>\n",
       "      <th>996</th>\n",
       "      <td>0.278519</td>\n",
       "      <td>0.278738</td>\n",
       "      <td>0.382653</td>\n",
       "    </tr>\n",
       "    <tr>\n",
       "      <th>997</th>\n",
       "      <td>0.962560</td>\n",
       "      <td>1.161262</td>\n",
       "      <td>0.944974</td>\n",
       "    </tr>\n",
       "    <tr>\n",
       "      <th>998</th>\n",
       "      <td>0.810909</td>\n",
       "      <td>0.669246</td>\n",
       "      <td>0.567005</td>\n",
       "    </tr>\n",
       "    <tr>\n",
       "      <th>999</th>\n",
       "      <td>0.689990</td>\n",
       "      <td>0.935418</td>\n",
       "      <td>0.973809</td>\n",
       "    </tr>\n",
       "  </tbody>\n",
       "</table>\n",
       "<p>1000 rows × 3 columns</p>\n",
       "</div>"
      ],
      "text/plain": [
       "      trueExp    estExp    updExp\n",
       "0    1.249281  0.852126  0.879589\n",
       "1    0.756250  0.719890  0.718280\n",
       "2    0.051020  0.012071  0.017299\n",
       "3    1.815272  1.229300  1.345455\n",
       "4    0.691853  0.289053  0.303481\n",
       "5    1.478212  1.546667  1.612903\n",
       "6    1.230500  1.871824  1.523127\n",
       "7    1.016296  0.777503  1.028890\n",
       "8    1.995000  1.913855  2.398990\n",
       "9    0.747599  0.429520  0.903285\n",
       "10   0.961914  1.306447  1.054713\n",
       "11   1.096939  1.353416  1.095599\n",
       "12   0.825185  0.746886  0.764581\n",
       "13   1.667046  2.469904  2.023890\n",
       "14   0.940000  0.525652  1.093266\n",
       "15   0.944433  0.468477  0.475569\n",
       "16   0.622837  0.532565  0.727661\n",
       "17   1.203061  1.661235  1.881106\n",
       "18   1.880725  1.158628  0.983814\n",
       "19   0.991211  1.011358  1.255115\n",
       "20   0.728148  0.935199  0.832458\n",
       "21   0.225394  0.243347  0.278063\n",
       "22   0.918367  1.074678  0.964571\n",
       "23   0.251690  0.240878  0.308392\n",
       "24   1.099125  1.847298  1.831746\n",
       "25   1.923333  1.984088  2.161616\n",
       "26   1.743050  1.348916  1.222794\n",
       "27   1.151339  0.957805  0.861111\n",
       "28   0.946931  0.702332  0.740041\n",
       "29   0.693359  0.678848  0.875000\n",
       "..        ...       ...       ...\n",
       "970  0.617017  0.616351  0.678955\n",
       "971  1.111111  0.990288  0.856983\n",
       "972  3.001481  4.968560  4.576125\n",
       "973  1.667046  2.792538  2.011600\n",
       "974  0.856910  0.476927  0.480769\n",
       "975  0.687037  1.001372  0.702239\n",
       "976  0.796541  0.478464  0.538388\n",
       "977  0.932221  1.015528  1.125662\n",
       "978  1.211474  1.137997  1.162917\n",
       "979  0.493333  0.480878  0.453734\n",
       "980  0.710059  1.421125  1.420179\n",
       "981  1.023750  1.115391  1.365764\n",
       "982  0.999680  1.222551  1.224411\n",
       "983  1.746399  0.959781  1.203614\n",
       "984  0.547793  0.600274  0.443153\n",
       "985  0.888148  1.392593  1.212346\n",
       "986  0.879038  1.037695  1.121910\n",
       "987  0.654659  0.420247  0.501491\n",
       "988  0.671614  0.618820  0.790124\n",
       "989  1.021788  1.027380  1.199151\n",
       "990  1.041508  0.920494  1.202476\n",
       "991  2.139918  2.106886  1.585781\n",
       "992  2.863391  3.802963  3.848765\n",
       "993  0.965120  0.928176  0.820690\n",
       "994  0.614621  0.715281  0.769345\n",
       "995  1.515775  1.329438  1.899642\n",
       "996  0.278519  0.278738  0.382653\n",
       "997  0.962560  1.161262  0.944974\n",
       "998  0.810909  0.669246  0.567005\n",
       "999  0.689990  0.935418  0.973809\n",
       "\n",
       "[1000 rows x 3 columns]"
      ]
     },
     "execution_count": 122,
     "metadata": {},
     "output_type": "execute_result"
    }
   ],
   "source": [
    "import pandas as pd\n",
    "\n",
    "filepath = '../statEst15.csv'\n",
    "df = pd.read_csv(filepath)\n",
    "df"
   ]
  },
  {
   "cell_type": "code",
   "execution_count": 123,
   "metadata": {
    "collapsed": true
   },
   "outputs": [],
   "source": [
    "mean = (df.estExp + df.updExp) / 2\n",
    "geoMean = (df.estExp * df.updExp).pow(0.5)"
   ]
  },
  {
   "cell_type": "code",
   "execution_count": 124,
   "metadata": {
    "collapsed": false
   },
   "outputs": [
    {
     "data": {
      "text/plain": [
       "count    1000.000000\n",
       "mean        0.990896\n",
       "std         0.332209\n",
       "min         0.236593\n",
       "25%         0.774804\n",
       "50%         0.942012\n",
       "75%         1.153696\n",
       "max         2.874815\n",
       "dtype: float64"
      ]
     },
     "execution_count": 124,
     "metadata": {},
     "output_type": "execute_result"
    }
   ],
   "source": [
    "(df.estExp / df.trueExp).describe()"
   ]
  },
  {
   "cell_type": "code",
   "execution_count": 125,
   "metadata": {
    "collapsed": false
   },
   "outputs": [
    {
     "data": {
      "text/plain": [
       "count    1000.000000\n",
       "mean        1.036147\n",
       "std         0.310184\n",
       "min         0.246503\n",
       "25%         0.818182\n",
       "50%         0.990197\n",
       "75%         1.222122\n",
       "max         2.417153\n",
       "dtype: float64"
      ]
     },
     "execution_count": 125,
     "metadata": {},
     "output_type": "execute_result"
    }
   ],
   "source": [
    "(df.updExp / df.trueExp).describe()"
   ]
  },
  {
   "cell_type": "code",
   "execution_count": 126,
   "metadata": {
    "collapsed": false
   },
   "outputs": [
    {
     "data": {
      "text/plain": [
       "count    1000.000000\n",
       "mean        1.013522\n",
       "std         0.296741\n",
       "min         0.265697\n",
       "25%         0.813232\n",
       "50%         0.983237\n",
       "75%         1.181136\n",
       "max         2.470420\n",
       "dtype: float64"
      ]
     },
     "execution_count": 126,
     "metadata": {},
     "output_type": "execute_result"
    }
   ],
   "source": [
    "(mean / df.trueExp).describe()"
   ]
  },
  {
   "cell_type": "code",
   "execution_count": 127,
   "metadata": {
    "collapsed": false
   },
   "outputs": [
    {
     "data": {
      "text/plain": [
       "count    1000.000000\n",
       "mean        1.006627\n",
       "std         0.293685\n",
       "min         0.265672\n",
       "25%         0.809547\n",
       "50%         0.981015\n",
       "75%         1.176525\n",
       "max         2.437097\n",
       "dtype: float64"
      ]
     },
     "execution_count": 127,
     "metadata": {},
     "output_type": "execute_result"
    }
   ],
   "source": [
    "(geoMean / df.trueExp).describe()"
   ]
  },
  {
   "cell_type": "code",
   "execution_count": 128,
   "metadata": {
    "collapsed": false
   },
   "outputs": [
    {
     "name": "stderr",
     "output_type": "stream",
     "text": [
      "C:\\UserSoft\\Anaconda\\lib\\site-packages\\statsmodels\\nonparametric\\kdetools.py:20: VisibleDeprecationWarning: using a non-integer number instead of an integer will result in an error in the future\n",
      "  y = X[:m/2+1] + np.r_[0,X[m/2+1:],0]*1j\n"
     ]
    },
    {
     "data": {
      "image/png": "[encoded data removed]",
      "text/plain": [
       "<matplotlib.figure.Figure at 0x256af750a20>"
      ]
     },
     "metadata": {},
     "output_type": "display_data"
    }
   ],
   "source": [
    "sr_est = (df.estExp / df.trueExp)\n",
    "sr_upd = (df.updExp / df.trueExp)\n",
    "%matplotlib inline\n",
    "from matplotlib import pyplot as plt\n",
    "import seaborn as sns\n",
    "fig, ax = plt.subplots(4, 1, figsize=(10, 20))\n",
    "for i in range(4):\n",
    "    ax[i].set_xlim(0, 2)\n",
    "    ax[i].set_ylim(0, 2.3)\n",
    "sns.distplot(sr_est, ax=ax[0])\n",
    "sns.distplot(sr_upd, ax=ax[1])\n",
    "sns.distplot((sr_est + sr_upd) / 2, ax=ax[2])\n",
    "sns.distplot(geoMean / df.trueExp, ax=ax[3])\n",
    "plt.show()"
   ]
  },
  {
   "cell_type": "code",
   "execution_count": 129,
   "metadata": {
    "collapsed": false
   },
   "outputs": [
    {
     "data": {
      "text/plain": [
       "count    1.000000e+03\n",
       "mean     1.959643e-01\n",
       "std      1.453883e+00\n",
       "min      4.796100e-08\n",
       "25%      5.511616e-03\n",
       "50%      2.731511e-02\n",
       "75%      1.080386e-01\n",
       "max      4.110902e+01\n",
       "dtype: float64"
      ]
     },
     "execution_count": 129,
     "metadata": {},
     "output_type": "execute_result"
    }
   ],
   "source": [
    "(df.estExp - df.trueExp).pow(2).describe()"
   ]
  },
  {
   "cell_type": "code",
   "execution_count": 130,
   "metadata": {
    "collapsed": false
   },
   "outputs": [
    {
     "data": {
      "text/plain": [
       "count    1.000000e+03\n",
       "mean     1.572155e-01\n",
       "std      8.246801e-01\n",
       "min      9.216000e-09\n",
       "25%      5.428688e-03\n",
       "50%      2.777723e-02\n",
       "75%      1.038798e-01\n",
       "max      2.027251e+01\n",
       "dtype: float64"
      ]
     },
     "execution_count": 130,
     "metadata": {},
     "output_type": "execute_result"
    }
   ],
   "source": [
    "(df.updExp - df.trueExp).pow(2).describe()"
   ]
  },
  {
   "cell_type": "code",
   "execution_count": 131,
   "metadata": {
    "collapsed": false,
    "scrolled": true
   },
   "outputs": [
    {
     "data": {
      "text/plain": [
       "count    1.000000e+03\n",
       "mean     1.507329e-01\n",
       "std      1.025958e+00\n",
       "min      1.440000e-08\n",
       "25%      4.980007e-03\n",
       "50%      2.389408e-02\n",
       "75%      9.628677e-02\n",
       "max      2.977957e+01\n",
       "dtype: float64"
      ]
     },
     "execution_count": 131,
     "metadata": {},
     "output_type": "execute_result"
    }
   ],
   "source": [
    "(mean - df.trueExp).pow(2).describe()"
   ]
  },
  {
   "cell_type": "code",
   "execution_count": 132,
   "metadata": {
    "collapsed": false
   },
   "outputs": [
    {
     "data": {
      "text/plain": [
       "count    1.000000e+03\n",
       "mean     1.468144e-01\n",
       "std      1.006168e+00\n",
       "min      8.914329e-09\n",
       "25%      4.782288e-03\n",
       "50%      2.420943e-02\n",
       "75%      9.519123e-02\n",
       "max      2.928013e+01\n",
       "dtype: float64"
      ]
     },
     "execution_count": 132,
     "metadata": {},
     "output_type": "execute_result"
    }
   ],
   "source": [
    "(geoMean - df.trueExp).pow(2).describe()"
   ]
  },
  {
   "cell_type": "code",
   "execution_count": null,
   "metadata": {
    "collapsed": true
   },
   "outputs": [],
   "source": []
  }
 ],
 "metadata": {
  "kernelspec": {
   "display_name": "Python 3",
   "language": "python",
   "name": "python3"
  },
  "language_info": {
   "codemirror_mode": {
    "name": "ipython",
    "version": 3
   },
   "file_extension": ".py",
   "mimetype": "text/x-python",
   "name": "python",
   "nbconvert_exporter": "python",
   "pygments_lexer": "ipython3",
   "version": "3.6.0"
  }
 },
 "nbformat": 4,
 "nbformat_minor": 2
}
